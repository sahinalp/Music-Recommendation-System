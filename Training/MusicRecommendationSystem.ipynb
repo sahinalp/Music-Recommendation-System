{
  "nbformat": 4,
  "nbformat_minor": 0,
  "metadata": {
    "colab": {
      "provenance": [],
      "authorship_tag": "ABX9TyOvZYEN7ijYHQmhKcLLCEic"
    },
    "kernelspec": {
      "name": "python3",
      "display_name": "Python 3"
    },
    "language_info": {
      "name": "python"
    }
  },
  "cells": [
    {
      "cell_type": "code",
      "source": [
        "import os\n",
        "import numpy as np\n",
        "import pandas as pd"
      ],
      "metadata": {
        "id": "eSHlJzgTfO3t"
      },
      "execution_count": null,
      "outputs": []
    },
    {
      "cell_type": "markdown",
      "source": [
        "# Load Dataset"
      ],
      "metadata": {
        "id": "yOdMV6feesiP"
      }
    },
    {
      "cell_type": "code",
      "source": [
        "!pip install -q kaggle\n",
        "!mkdir ~/.kaggle\n",
        "!cp kaggle.json ~/.kaggle/\n",
        "!chmod 600 ~/.kaggle/kaggle.json"
      ],
      "metadata": {
        "id": "B7h7QiD8euxt"
      },
      "execution_count": null,
      "outputs": []
    },
    {
      "cell_type": "code",
      "source": [
        "!kaggle datasets download saurabhshahane/spotgen-music-dataset/versions/122"
      ],
      "metadata": {
        "colab": {
          "base_uri": "https://localhost:8080/"
        },
        "id": "aNHuYP7Ze0Kg",
        "outputId": "20601f01-3a42-4da0-d518-9aebc5a3ce19"
      },
      "execution_count": null,
      "outputs": [
        {
          "output_type": "stream",
          "name": "stdout",
          "text": [
            "Downloading spotgen-music-dataset.zip to /content\n",
            " 95% 260M/274M [00:02<00:00, 115MB/s]\n",
            "100% 274M/274M [00:02<00:00, 97.4MB/s]\n"
          ]
        }
      ]
    },
    {
      "cell_type": "code",
      "source": [
        "!unzip spotgen-music-dataset.zip -d data"
      ],
      "metadata": {
        "colab": {
          "base_uri": "https://localhost:8080/"
        },
        "id": "n4cx0oTjfI0f",
        "outputId": "09361cc7-c42b-4fe0-8ab6-5fe7bd7876fa"
      },
      "execution_count": null,
      "outputs": [
        {
          "output_type": "stream",
          "name": "stdout",
          "text": [
            "Archive:  spotgen-music-dataset.zip\n",
            "  inflating: data/SpotGenTrack/Data Sources/spotify_albums.csv  \n",
            "  inflating: data/SpotGenTrack/Data Sources/spotify_artists.csv  \n",
            "  inflating: data/SpotGenTrack/Data Sources/spotify_tracks.csv  \n",
            "  inflating: data/SpotGenTrack/Features Extracted/low_level_audio_features.csv  \n",
            "  inflating: data/SpotGenTrack/Features Extracted/lyrics_features.csv  \n"
          ]
        }
      ]
    },
    {
      "cell_type": "code",
      "source": [
        "tracks_dataset=pd.read_csv(\"data/SpotGenTrack/Data Sources/spotify_tracks.csv\")"
      ],
      "metadata": {
        "id": "6yrK_WsifLBG"
      },
      "execution_count": null,
      "outputs": []
    },
    {
      "cell_type": "code",
      "source": [
        "tracks_dataset.info()"
      ],
      "metadata": {
        "colab": {
          "base_uri": "https://localhost:8080/"
        },
        "id": "uRxsplHgf6D6",
        "outputId": "4b39dbbf-06d4-4d50-cbf5-2c71a6af0625"
      },
      "execution_count": null,
      "outputs": [
        {
          "output_type": "stream",
          "name": "stdout",
          "text": [
            "<class 'pandas.core.frame.DataFrame'>\n",
            "RangeIndex: 101939 entries, 0 to 101938\n",
            "Data columns (total 32 columns):\n",
            " #   Column             Non-Null Count   Dtype  \n",
            "---  ------             --------------   -----  \n",
            " 0   Unnamed: 0         101939 non-null  int64  \n",
            " 1   acousticness       101939 non-null  float64\n",
            " 2   album_id           101939 non-null  object \n",
            " 3   analysis_url       101939 non-null  object \n",
            " 4   artists_id         101939 non-null  object \n",
            " 5   available_markets  101939 non-null  object \n",
            " 6   country            101939 non-null  object \n",
            " 7   danceability       101939 non-null  float64\n",
            " 8   disc_number        101939 non-null  float64\n",
            " 9   duration_ms        101939 non-null  float64\n",
            " 10  energy             101939 non-null  float64\n",
            " 11  href               101939 non-null  object \n",
            " 12  id                 101939 non-null  object \n",
            " 13  instrumentalness   101939 non-null  float64\n",
            " 14  key                101939 non-null  float64\n",
            " 15  liveness           101939 non-null  float64\n",
            " 16  loudness           101939 non-null  float64\n",
            " 17  lyrics             101939 non-null  object \n",
            " 18  mode               101939 non-null  float64\n",
            " 19  name               101939 non-null  object \n",
            " 20  playlist           101939 non-null  object \n",
            " 21  popularity         101939 non-null  float64\n",
            " 22  preview_url        101939 non-null  object \n",
            " 23  speechiness        101939 non-null  float64\n",
            " 24  tempo              101939 non-null  float64\n",
            " 25  time_signature     101939 non-null  float64\n",
            " 26  track_href         101939 non-null  object \n",
            " 27  track_name_prev    101939 non-null  object \n",
            " 28  track_number       101939 non-null  float64\n",
            " 29  uri                101939 non-null  object \n",
            " 30  valence            101939 non-null  float64\n",
            " 31  type               101939 non-null  object \n",
            "dtypes: float64(16), int64(1), object(15)\n",
            "memory usage: 24.9+ MB\n"
          ]
        }
      ]
    },
    {
      "cell_type": "code",
      "source": [
        "tracks_dataset.head()"
      ],
      "metadata": {
        "colab": {
          "base_uri": "https://localhost:8080/",
          "height": 456
        },
        "id": "R6-hoqASgNHz",
        "outputId": "5467bac2-2607-4b48-e0b7-a9466c4b27f8"
      },
      "execution_count": null,
      "outputs": [
        {
          "output_type": "execute_result",
          "data": {
            "text/plain": [
              "   Unnamed: 0  acousticness                album_id  \\\n",
              "0           0         0.294  0D3QufeCudpQANOR7luqdr   \n",
              "1           1         0.863  1bcqsH5UyTBzmh9YizdsBE   \n",
              "2           2         0.750  4tKijjmxGClg4JOLAyo2qE   \n",
              "3           3         0.763  6FeJF5r8roonnKraJxr4oB   \n",
              "4           4         0.770  4tKijjmxGClg4JOLAyo2qE   \n",
              "\n",
              "                                        analysis_url  \\\n",
              "0  https://api.spotify.com/v1/audio-analysis/5qlj...   \n",
              "1  https://api.spotify.com/v1/audio-analysis/3VAX...   \n",
              "2  https://api.spotify.com/v1/audio-analysis/1L3Y...   \n",
              "3  https://api.spotify.com/v1/audio-analysis/6aCe...   \n",
              "4  https://api.spotify.com/v1/audio-analysis/1Vo8...   \n",
              "\n",
              "                   artists_id  \\\n",
              "0  ['3mxJuHRn2ZWD5OofvJtDZY']   \n",
              "1  ['4xWMewm6CYMstu0sPgd9jJ']   \n",
              "2  ['3hYaK5FF3YAglCj5HZgBnP']   \n",
              "3  ['2KQsUB9DRBcJk17JWX1eXD']   \n",
              "4  ['3hYaK5FF3YAglCj5HZgBnP']   \n",
              "\n",
              "                                   available_markets country  danceability  \\\n",
              "0  ['AD', 'AE', 'AR', 'AT', 'AU', 'BE', 'BG', 'BH...      BE         0.698   \n",
              "1  ['AD', 'AE', 'AR', 'AT', 'AU', 'BE', 'BG', 'BH...      BE         0.719   \n",
              "2                                             ['GB']      BE         0.466   \n",
              "3  ['AD', 'AE', 'AR', 'AT', 'AU', 'BE', 'BG', 'BH...      BE         0.719   \n",
              "4                                             ['GB']      BE         0.460   \n",
              "\n",
              "   disc_number  duration_ms  ...  \\\n",
              "0          1.0     235584.0  ...   \n",
              "1          1.0     656960.0  ...   \n",
              "2          1.0     492840.0  ...   \n",
              "3          1.0     316578.0  ...   \n",
              "4          1.0     558880.0  ...   \n",
              "\n",
              "                                         preview_url speechiness    tempo  \\\n",
              "0  https://p.scdn.co/mp3-preview/1b05a902da3a251d...      0.0262  115.018   \n",
              "1  https://p.scdn.co/mp3-preview/d8140736a6131cb5...      0.9220  115.075   \n",
              "2  https://p.scdn.co/mp3-preview/c8af28fb15185b18...      0.9440   79.565   \n",
              "3  https://p.scdn.co/mp3-preview/7629b8e9f31f6e9b...      0.9380  112.822   \n",
              "4  https://p.scdn.co/mp3-preview/32be593c0eb82868...      0.9430   81.260   \n",
              "\n",
              "   time_signature                                         track_href  \\\n",
              "0             4.0  https://api.spotify.com/v1/tracks/5qljLQuKnNJf...   \n",
              "1             3.0  https://api.spotify.com/v1/tracks/3VAX2MJdmdqA...   \n",
              "2             4.0  https://api.spotify.com/v1/tracks/1L3YAhsEMrGV...   \n",
              "3             3.0  https://api.spotify.com/v1/tracks/6aCe9zzoZmCo...   \n",
              "4             4.0  https://api.spotify.com/v1/tracks/1Vo802A38tPF...   \n",
              "\n",
              "   track_name_prev  track_number                                   uri  \\\n",
              "0         track_14           1.0  spotify:track:5qljLQuKnNJf4F4vfxQB0V   \n",
              "1          track_3           3.0  spotify:track:3VAX2MJdmdqARLSU5hPMpm   \n",
              "2          track_4           4.0  spotify:track:1L3YAhsEMrGVvCgDXj2TYn   \n",
              "3          track_9           1.0  spotify:track:6aCe9zzoZmCojX7bbgKKtf   \n",
              "4          track_2           2.0  spotify:track:1Vo802A38tPFHmje1h91um   \n",
              "\n",
              "   valence   type  \n",
              "0   0.6220  track  \n",
              "1   0.5890  track  \n",
              "2   0.0850  track  \n",
              "3   0.5330  track  \n",
              "4   0.0906  track  \n",
              "\n",
              "[5 rows x 32 columns]"
            ],
            "text/html": [
              "\n",
              "  <div id=\"df-1e7b25de-325f-4232-842c-58a94f8885e0\">\n",
              "    <div class=\"colab-df-container\">\n",
              "      <div>\n",
              "<style scoped>\n",
              "    .dataframe tbody tr th:only-of-type {\n",
              "        vertical-align: middle;\n",
              "    }\n",
              "\n",
              "    .dataframe tbody tr th {\n",
              "        vertical-align: top;\n",
              "    }\n",
              "\n",
              "    .dataframe thead th {\n",
              "        text-align: right;\n",
              "    }\n",
              "</style>\n",
              "<table border=\"1\" class=\"dataframe\">\n",
              "  <thead>\n",
              "    <tr style=\"text-align: right;\">\n",
              "      <th></th>\n",
              "      <th>Unnamed: 0</th>\n",
              "      <th>acousticness</th>\n",
              "      <th>album_id</th>\n",
              "      <th>analysis_url</th>\n",
              "      <th>artists_id</th>\n",
              "      <th>available_markets</th>\n",
              "      <th>country</th>\n",
              "      <th>danceability</th>\n",
              "      <th>disc_number</th>\n",
              "      <th>duration_ms</th>\n",
              "      <th>...</th>\n",
              "      <th>preview_url</th>\n",
              "      <th>speechiness</th>\n",
              "      <th>tempo</th>\n",
              "      <th>time_signature</th>\n",
              "      <th>track_href</th>\n",
              "      <th>track_name_prev</th>\n",
              "      <th>track_number</th>\n",
              "      <th>uri</th>\n",
              "      <th>valence</th>\n",
              "      <th>type</th>\n",
              "    </tr>\n",
              "  </thead>\n",
              "  <tbody>\n",
              "    <tr>\n",
              "      <th>0</th>\n",
              "      <td>0</td>\n",
              "      <td>0.294</td>\n",
              "      <td>0D3QufeCudpQANOR7luqdr</td>\n",
              "      <td>https://api.spotify.com/v1/audio-analysis/5qlj...</td>\n",
              "      <td>['3mxJuHRn2ZWD5OofvJtDZY']</td>\n",
              "      <td>['AD', 'AE', 'AR', 'AT', 'AU', 'BE', 'BG', 'BH...</td>\n",
              "      <td>BE</td>\n",
              "      <td>0.698</td>\n",
              "      <td>1.0</td>\n",
              "      <td>235584.0</td>\n",
              "      <td>...</td>\n",
              "      <td>https://p.scdn.co/mp3-preview/1b05a902da3a251d...</td>\n",
              "      <td>0.0262</td>\n",
              "      <td>115.018</td>\n",
              "      <td>4.0</td>\n",
              "      <td>https://api.spotify.com/v1/tracks/5qljLQuKnNJf...</td>\n",
              "      <td>track_14</td>\n",
              "      <td>1.0</td>\n",
              "      <td>spotify:track:5qljLQuKnNJf4F4vfxQB0V</td>\n",
              "      <td>0.6220</td>\n",
              "      <td>track</td>\n",
              "    </tr>\n",
              "    <tr>\n",
              "      <th>1</th>\n",
              "      <td>1</td>\n",
              "      <td>0.863</td>\n",
              "      <td>1bcqsH5UyTBzmh9YizdsBE</td>\n",
              "      <td>https://api.spotify.com/v1/audio-analysis/3VAX...</td>\n",
              "      <td>['4xWMewm6CYMstu0sPgd9jJ']</td>\n",
              "      <td>['AD', 'AE', 'AR', 'AT', 'AU', 'BE', 'BG', 'BH...</td>\n",
              "      <td>BE</td>\n",
              "      <td>0.719</td>\n",
              "      <td>1.0</td>\n",
              "      <td>656960.0</td>\n",
              "      <td>...</td>\n",
              "      <td>https://p.scdn.co/mp3-preview/d8140736a6131cb5...</td>\n",
              "      <td>0.9220</td>\n",
              "      <td>115.075</td>\n",
              "      <td>3.0</td>\n",
              "      <td>https://api.spotify.com/v1/tracks/3VAX2MJdmdqA...</td>\n",
              "      <td>track_3</td>\n",
              "      <td>3.0</td>\n",
              "      <td>spotify:track:3VAX2MJdmdqARLSU5hPMpm</td>\n",
              "      <td>0.5890</td>\n",
              "      <td>track</td>\n",
              "    </tr>\n",
              "    <tr>\n",
              "      <th>2</th>\n",
              "      <td>2</td>\n",
              "      <td>0.750</td>\n",
              "      <td>4tKijjmxGClg4JOLAyo2qE</td>\n",
              "      <td>https://api.spotify.com/v1/audio-analysis/1L3Y...</td>\n",
              "      <td>['3hYaK5FF3YAglCj5HZgBnP']</td>\n",
              "      <td>['GB']</td>\n",
              "      <td>BE</td>\n",
              "      <td>0.466</td>\n",
              "      <td>1.0</td>\n",
              "      <td>492840.0</td>\n",
              "      <td>...</td>\n",
              "      <td>https://p.scdn.co/mp3-preview/c8af28fb15185b18...</td>\n",
              "      <td>0.9440</td>\n",
              "      <td>79.565</td>\n",
              "      <td>4.0</td>\n",
              "      <td>https://api.spotify.com/v1/tracks/1L3YAhsEMrGV...</td>\n",
              "      <td>track_4</td>\n",
              "      <td>4.0</td>\n",
              "      <td>spotify:track:1L3YAhsEMrGVvCgDXj2TYn</td>\n",
              "      <td>0.0850</td>\n",
              "      <td>track</td>\n",
              "    </tr>\n",
              "    <tr>\n",
              "      <th>3</th>\n",
              "      <td>3</td>\n",
              "      <td>0.763</td>\n",
              "      <td>6FeJF5r8roonnKraJxr4oB</td>\n",
              "      <td>https://api.spotify.com/v1/audio-analysis/6aCe...</td>\n",
              "      <td>['2KQsUB9DRBcJk17JWX1eXD']</td>\n",
              "      <td>['AD', 'AE', 'AR', 'AT', 'AU', 'BE', 'BG', 'BH...</td>\n",
              "      <td>BE</td>\n",
              "      <td>0.719</td>\n",
              "      <td>1.0</td>\n",
              "      <td>316578.0</td>\n",
              "      <td>...</td>\n",
              "      <td>https://p.scdn.co/mp3-preview/7629b8e9f31f6e9b...</td>\n",
              "      <td>0.9380</td>\n",
              "      <td>112.822</td>\n",
              "      <td>3.0</td>\n",
              "      <td>https://api.spotify.com/v1/tracks/6aCe9zzoZmCo...</td>\n",
              "      <td>track_9</td>\n",
              "      <td>1.0</td>\n",
              "      <td>spotify:track:6aCe9zzoZmCojX7bbgKKtf</td>\n",
              "      <td>0.5330</td>\n",
              "      <td>track</td>\n",
              "    </tr>\n",
              "    <tr>\n",
              "      <th>4</th>\n",
              "      <td>4</td>\n",
              "      <td>0.770</td>\n",
              "      <td>4tKijjmxGClg4JOLAyo2qE</td>\n",
              "      <td>https://api.spotify.com/v1/audio-analysis/1Vo8...</td>\n",
              "      <td>['3hYaK5FF3YAglCj5HZgBnP']</td>\n",
              "      <td>['GB']</td>\n",
              "      <td>BE</td>\n",
              "      <td>0.460</td>\n",
              "      <td>1.0</td>\n",
              "      <td>558880.0</td>\n",
              "      <td>...</td>\n",
              "      <td>https://p.scdn.co/mp3-preview/32be593c0eb82868...</td>\n",
              "      <td>0.9430</td>\n",
              "      <td>81.260</td>\n",
              "      <td>4.0</td>\n",
              "      <td>https://api.spotify.com/v1/tracks/1Vo802A38tPF...</td>\n",
              "      <td>track_2</td>\n",
              "      <td>2.0</td>\n",
              "      <td>spotify:track:1Vo802A38tPFHmje1h91um</td>\n",
              "      <td>0.0906</td>\n",
              "      <td>track</td>\n",
              "    </tr>\n",
              "  </tbody>\n",
              "</table>\n",
              "<p>5 rows × 32 columns</p>\n",
              "</div>\n",
              "      <button class=\"colab-df-convert\" onclick=\"convertToInteractive('df-1e7b25de-325f-4232-842c-58a94f8885e0')\"\n",
              "              title=\"Convert this dataframe to an interactive table.\"\n",
              "              style=\"display:none;\">\n",
              "        \n",
              "  <svg xmlns=\"http://www.w3.org/2000/svg\" height=\"24px\"viewBox=\"0 0 24 24\"\n",
              "       width=\"24px\">\n",
              "    <path d=\"M0 0h24v24H0V0z\" fill=\"none\"/>\n",
              "    <path d=\"M18.56 5.44l.94 2.06.94-2.06 2.06-.94-2.06-.94-.94-2.06-.94 2.06-2.06.94zm-11 1L8.5 8.5l.94-2.06 2.06-.94-2.06-.94L8.5 2.5l-.94 2.06-2.06.94zm10 10l.94 2.06.94-2.06 2.06-.94-2.06-.94-.94-2.06-.94 2.06-2.06.94z\"/><path d=\"M17.41 7.96l-1.37-1.37c-.4-.4-.92-.59-1.43-.59-.52 0-1.04.2-1.43.59L10.3 9.45l-7.72 7.72c-.78.78-.78 2.05 0 2.83L4 21.41c.39.39.9.59 1.41.59.51 0 1.02-.2 1.41-.59l7.78-7.78 2.81-2.81c.8-.78.8-2.07 0-2.86zM5.41 20L4 18.59l7.72-7.72 1.47 1.35L5.41 20z\"/>\n",
              "  </svg>\n",
              "      </button>\n",
              "      \n",
              "  <style>\n",
              "    .colab-df-container {\n",
              "      display:flex;\n",
              "      flex-wrap:wrap;\n",
              "      gap: 12px;\n",
              "    }\n",
              "\n",
              "    .colab-df-convert {\n",
              "      background-color: #E8F0FE;\n",
              "      border: none;\n",
              "      border-radius: 50%;\n",
              "      cursor: pointer;\n",
              "      display: none;\n",
              "      fill: #1967D2;\n",
              "      height: 32px;\n",
              "      padding: 0 0 0 0;\n",
              "      width: 32px;\n",
              "    }\n",
              "\n",
              "    .colab-df-convert:hover {\n",
              "      background-color: #E2EBFA;\n",
              "      box-shadow: 0px 1px 2px rgba(60, 64, 67, 0.3), 0px 1px 3px 1px rgba(60, 64, 67, 0.15);\n",
              "      fill: #174EA6;\n",
              "    }\n",
              "\n",
              "    [theme=dark] .colab-df-convert {\n",
              "      background-color: #3B4455;\n",
              "      fill: #D2E3FC;\n",
              "    }\n",
              "\n",
              "    [theme=dark] .colab-df-convert:hover {\n",
              "      background-color: #434B5C;\n",
              "      box-shadow: 0px 1px 3px 1px rgba(0, 0, 0, 0.15);\n",
              "      filter: drop-shadow(0px 1px 2px rgba(0, 0, 0, 0.3));\n",
              "      fill: #FFFFFF;\n",
              "    }\n",
              "  </style>\n",
              "\n",
              "      <script>\n",
              "        const buttonEl =\n",
              "          document.querySelector('#df-1e7b25de-325f-4232-842c-58a94f8885e0 button.colab-df-convert');\n",
              "        buttonEl.style.display =\n",
              "          google.colab.kernel.accessAllowed ? 'block' : 'none';\n",
              "\n",
              "        async function convertToInteractive(key) {\n",
              "          const element = document.querySelector('#df-1e7b25de-325f-4232-842c-58a94f8885e0');\n",
              "          const dataTable =\n",
              "            await google.colab.kernel.invokeFunction('convertToInteractive',\n",
              "                                                     [key], {});\n",
              "          if (!dataTable) return;\n",
              "\n",
              "          const docLinkHtml = 'Like what you see? Visit the ' +\n",
              "            '<a target=\"_blank\" href=https://colab.research.google.com/notebooks/data_table.ipynb>data table notebook</a>'\n",
              "            + ' to learn more about interactive tables.';\n",
              "          element.innerHTML = '';\n",
              "          dataTable['output_type'] = 'display_data';\n",
              "          await google.colab.output.renderOutput(dataTable, element);\n",
              "          const docLink = document.createElement('div');\n",
              "          docLink.innerHTML = docLinkHtml;\n",
              "          element.appendChild(docLink);\n",
              "        }\n",
              "      </script>\n",
              "    </div>\n",
              "  </div>\n",
              "  "
            ]
          },
          "metadata": {},
          "execution_count": 8
        }
      ]
    },
    {
      "cell_type": "code",
      "source": [
        "data=tracks_dataset.iloc[:,1:]"
      ],
      "metadata": {
        "id": "eR_21aEkgSYB"
      },
      "execution_count": null,
      "outputs": []
    },
    {
      "cell_type": "code",
      "source": [
        "data.drop([\"duration_ms\",\"time_signature\",\"disc_number\",\"track_number\",\"key\",\"mode\"],axis=1,inplace=True)"
      ],
      "metadata": {
        "id": "XEpsVdZVl3PU"
      },
      "execution_count": null,
      "outputs": []
    },
    {
      "cell_type": "code",
      "source": [
        "data.head()"
      ],
      "metadata": {
        "colab": {
          "base_uri": "https://localhost:8080/",
          "height": 438
        },
        "id": "yLnDs2g0hwBi",
        "outputId": "168f872e-6392-4892-e7fe-d68c976c7d44"
      },
      "execution_count": null,
      "outputs": [
        {
          "output_type": "execute_result",
          "data": {
            "text/plain": [
              "   acousticness                album_id  \\\n",
              "0         0.294  0D3QufeCudpQANOR7luqdr   \n",
              "1         0.863  1bcqsH5UyTBzmh9YizdsBE   \n",
              "2         0.750  4tKijjmxGClg4JOLAyo2qE   \n",
              "3         0.763  6FeJF5r8roonnKraJxr4oB   \n",
              "4         0.770  4tKijjmxGClg4JOLAyo2qE   \n",
              "\n",
              "                                        analysis_url  \\\n",
              "0  https://api.spotify.com/v1/audio-analysis/5qlj...   \n",
              "1  https://api.spotify.com/v1/audio-analysis/3VAX...   \n",
              "2  https://api.spotify.com/v1/audio-analysis/1L3Y...   \n",
              "3  https://api.spotify.com/v1/audio-analysis/6aCe...   \n",
              "4  https://api.spotify.com/v1/audio-analysis/1Vo8...   \n",
              "\n",
              "                   artists_id  \\\n",
              "0  ['3mxJuHRn2ZWD5OofvJtDZY']   \n",
              "1  ['4xWMewm6CYMstu0sPgd9jJ']   \n",
              "2  ['3hYaK5FF3YAglCj5HZgBnP']   \n",
              "3  ['2KQsUB9DRBcJk17JWX1eXD']   \n",
              "4  ['3hYaK5FF3YAglCj5HZgBnP']   \n",
              "\n",
              "                                   available_markets country  danceability  \\\n",
              "0  ['AD', 'AE', 'AR', 'AT', 'AU', 'BE', 'BG', 'BH...      BE         0.698   \n",
              "1  ['AD', 'AE', 'AR', 'AT', 'AU', 'BE', 'BG', 'BH...      BE         0.719   \n",
              "2                                             ['GB']      BE         0.466   \n",
              "3  ['AD', 'AE', 'AR', 'AT', 'AU', 'BE', 'BG', 'BH...      BE         0.719   \n",
              "4                                             ['GB']      BE         0.460   \n",
              "\n",
              "   energy                                               href  \\\n",
              "0   0.606  https://api.spotify.com/v1/tracks/5qljLQuKnNJf...   \n",
              "1   0.308  https://api.spotify.com/v1/tracks/3VAX2MJdmdqA...   \n",
              "2   0.931  https://api.spotify.com/v1/tracks/1L3YAhsEMrGV...   \n",
              "3   0.126  https://api.spotify.com/v1/tracks/6aCe9zzoZmCo...   \n",
              "4   0.942  https://api.spotify.com/v1/tracks/1Vo802A38tPF...   \n",
              "\n",
              "                       id  ...                playlist  popularity  \\\n",
              "0  5qljLQuKnNJf4F4vfxQB0V  ...         Hipsteribrunssi        28.0   \n",
              "1  3VAX2MJdmdqARLSU5hPMpm  ...          Animal Stories        31.0   \n",
              "2  1L3YAhsEMrGVvCgDXj2TYn  ...  Best Of British Comedy        31.0   \n",
              "3  6aCe9zzoZmCojX7bbgKKtf  ...           Short Stories        14.0   \n",
              "4  1Vo802A38tPFHmje1h91um  ...  Best Of British Comedy        32.0   \n",
              "\n",
              "                                         preview_url speechiness    tempo  \\\n",
              "0  https://p.scdn.co/mp3-preview/1b05a902da3a251d...      0.0262  115.018   \n",
              "1  https://p.scdn.co/mp3-preview/d8140736a6131cb5...      0.9220  115.075   \n",
              "2  https://p.scdn.co/mp3-preview/c8af28fb15185b18...      0.9440   79.565   \n",
              "3  https://p.scdn.co/mp3-preview/7629b8e9f31f6e9b...      0.9380  112.822   \n",
              "4  https://p.scdn.co/mp3-preview/32be593c0eb82868...      0.9430   81.260   \n",
              "\n",
              "                                          track_href  track_name_prev  \\\n",
              "0  https://api.spotify.com/v1/tracks/5qljLQuKnNJf...         track_14   \n",
              "1  https://api.spotify.com/v1/tracks/3VAX2MJdmdqA...          track_3   \n",
              "2  https://api.spotify.com/v1/tracks/1L3YAhsEMrGV...          track_4   \n",
              "3  https://api.spotify.com/v1/tracks/6aCe9zzoZmCo...          track_9   \n",
              "4  https://api.spotify.com/v1/tracks/1Vo802A38tPF...          track_2   \n",
              "\n",
              "                                    uri  valence   type  \n",
              "0  spotify:track:5qljLQuKnNJf4F4vfxQB0V   0.6220  track  \n",
              "1  spotify:track:3VAX2MJdmdqARLSU5hPMpm   0.5890  track  \n",
              "2  spotify:track:1L3YAhsEMrGVvCgDXj2TYn   0.0850  track  \n",
              "3  spotify:track:6aCe9zzoZmCojX7bbgKKtf   0.5330  track  \n",
              "4  spotify:track:1Vo802A38tPFHmje1h91um   0.0906  track  \n",
              "\n",
              "[5 rows x 25 columns]"
            ],
            "text/html": [
              "\n",
              "  <div id=\"df-b055bd4b-9017-4422-9282-25f197b5b2a7\">\n",
              "    <div class=\"colab-df-container\">\n",
              "      <div>\n",
              "<style scoped>\n",
              "    .dataframe tbody tr th:only-of-type {\n",
              "        vertical-align: middle;\n",
              "    }\n",
              "\n",
              "    .dataframe tbody tr th {\n",
              "        vertical-align: top;\n",
              "    }\n",
              "\n",
              "    .dataframe thead th {\n",
              "        text-align: right;\n",
              "    }\n",
              "</style>\n",
              "<table border=\"1\" class=\"dataframe\">\n",
              "  <thead>\n",
              "    <tr style=\"text-align: right;\">\n",
              "      <th></th>\n",
              "      <th>acousticness</th>\n",
              "      <th>album_id</th>\n",
              "      <th>analysis_url</th>\n",
              "      <th>artists_id</th>\n",
              "      <th>available_markets</th>\n",
              "      <th>country</th>\n",
              "      <th>danceability</th>\n",
              "      <th>energy</th>\n",
              "      <th>href</th>\n",
              "      <th>id</th>\n",
              "      <th>...</th>\n",
              "      <th>playlist</th>\n",
              "      <th>popularity</th>\n",
              "      <th>preview_url</th>\n",
              "      <th>speechiness</th>\n",
              "      <th>tempo</th>\n",
              "      <th>track_href</th>\n",
              "      <th>track_name_prev</th>\n",
              "      <th>uri</th>\n",
              "      <th>valence</th>\n",
              "      <th>type</th>\n",
              "    </tr>\n",
              "  </thead>\n",
              "  <tbody>\n",
              "    <tr>\n",
              "      <th>0</th>\n",
              "      <td>0.294</td>\n",
              "      <td>0D3QufeCudpQANOR7luqdr</td>\n",
              "      <td>https://api.spotify.com/v1/audio-analysis/5qlj...</td>\n",
              "      <td>['3mxJuHRn2ZWD5OofvJtDZY']</td>\n",
              "      <td>['AD', 'AE', 'AR', 'AT', 'AU', 'BE', 'BG', 'BH...</td>\n",
              "      <td>BE</td>\n",
              "      <td>0.698</td>\n",
              "      <td>0.606</td>\n",
              "      <td>https://api.spotify.com/v1/tracks/5qljLQuKnNJf...</td>\n",
              "      <td>5qljLQuKnNJf4F4vfxQB0V</td>\n",
              "      <td>...</td>\n",
              "      <td>Hipsteribrunssi</td>\n",
              "      <td>28.0</td>\n",
              "      <td>https://p.scdn.co/mp3-preview/1b05a902da3a251d...</td>\n",
              "      <td>0.0262</td>\n",
              "      <td>115.018</td>\n",
              "      <td>https://api.spotify.com/v1/tracks/5qljLQuKnNJf...</td>\n",
              "      <td>track_14</td>\n",
              "      <td>spotify:track:5qljLQuKnNJf4F4vfxQB0V</td>\n",
              "      <td>0.6220</td>\n",
              "      <td>track</td>\n",
              "    </tr>\n",
              "    <tr>\n",
              "      <th>1</th>\n",
              "      <td>0.863</td>\n",
              "      <td>1bcqsH5UyTBzmh9YizdsBE</td>\n",
              "      <td>https://api.spotify.com/v1/audio-analysis/3VAX...</td>\n",
              "      <td>['4xWMewm6CYMstu0sPgd9jJ']</td>\n",
              "      <td>['AD', 'AE', 'AR', 'AT', 'AU', 'BE', 'BG', 'BH...</td>\n",
              "      <td>BE</td>\n",
              "      <td>0.719</td>\n",
              "      <td>0.308</td>\n",
              "      <td>https://api.spotify.com/v1/tracks/3VAX2MJdmdqA...</td>\n",
              "      <td>3VAX2MJdmdqARLSU5hPMpm</td>\n",
              "      <td>...</td>\n",
              "      <td>Animal Stories</td>\n",
              "      <td>31.0</td>\n",
              "      <td>https://p.scdn.co/mp3-preview/d8140736a6131cb5...</td>\n",
              "      <td>0.9220</td>\n",
              "      <td>115.075</td>\n",
              "      <td>https://api.spotify.com/v1/tracks/3VAX2MJdmdqA...</td>\n",
              "      <td>track_3</td>\n",
              "      <td>spotify:track:3VAX2MJdmdqARLSU5hPMpm</td>\n",
              "      <td>0.5890</td>\n",
              "      <td>track</td>\n",
              "    </tr>\n",
              "    <tr>\n",
              "      <th>2</th>\n",
              "      <td>0.750</td>\n",
              "      <td>4tKijjmxGClg4JOLAyo2qE</td>\n",
              "      <td>https://api.spotify.com/v1/audio-analysis/1L3Y...</td>\n",
              "      <td>['3hYaK5FF3YAglCj5HZgBnP']</td>\n",
              "      <td>['GB']</td>\n",
              "      <td>BE</td>\n",
              "      <td>0.466</td>\n",
              "      <td>0.931</td>\n",
              "      <td>https://api.spotify.com/v1/tracks/1L3YAhsEMrGV...</td>\n",
              "      <td>1L3YAhsEMrGVvCgDXj2TYn</td>\n",
              "      <td>...</td>\n",
              "      <td>Best Of British Comedy</td>\n",
              "      <td>31.0</td>\n",
              "      <td>https://p.scdn.co/mp3-preview/c8af28fb15185b18...</td>\n",
              "      <td>0.9440</td>\n",
              "      <td>79.565</td>\n",
              "      <td>https://api.spotify.com/v1/tracks/1L3YAhsEMrGV...</td>\n",
              "      <td>track_4</td>\n",
              "      <td>spotify:track:1L3YAhsEMrGVvCgDXj2TYn</td>\n",
              "      <td>0.0850</td>\n",
              "      <td>track</td>\n",
              "    </tr>\n",
              "    <tr>\n",
              "      <th>3</th>\n",
              "      <td>0.763</td>\n",
              "      <td>6FeJF5r8roonnKraJxr4oB</td>\n",
              "      <td>https://api.spotify.com/v1/audio-analysis/6aCe...</td>\n",
              "      <td>['2KQsUB9DRBcJk17JWX1eXD']</td>\n",
              "      <td>['AD', 'AE', 'AR', 'AT', 'AU', 'BE', 'BG', 'BH...</td>\n",
              "      <td>BE</td>\n",
              "      <td>0.719</td>\n",
              "      <td>0.126</td>\n",
              "      <td>https://api.spotify.com/v1/tracks/6aCe9zzoZmCo...</td>\n",
              "      <td>6aCe9zzoZmCojX7bbgKKtf</td>\n",
              "      <td>...</td>\n",
              "      <td>Short Stories</td>\n",
              "      <td>14.0</td>\n",
              "      <td>https://p.scdn.co/mp3-preview/7629b8e9f31f6e9b...</td>\n",
              "      <td>0.9380</td>\n",
              "      <td>112.822</td>\n",
              "      <td>https://api.spotify.com/v1/tracks/6aCe9zzoZmCo...</td>\n",
              "      <td>track_9</td>\n",
              "      <td>spotify:track:6aCe9zzoZmCojX7bbgKKtf</td>\n",
              "      <td>0.5330</td>\n",
              "      <td>track</td>\n",
              "    </tr>\n",
              "    <tr>\n",
              "      <th>4</th>\n",
              "      <td>0.770</td>\n",
              "      <td>4tKijjmxGClg4JOLAyo2qE</td>\n",
              "      <td>https://api.spotify.com/v1/audio-analysis/1Vo8...</td>\n",
              "      <td>['3hYaK5FF3YAglCj5HZgBnP']</td>\n",
              "      <td>['GB']</td>\n",
              "      <td>BE</td>\n",
              "      <td>0.460</td>\n",
              "      <td>0.942</td>\n",
              "      <td>https://api.spotify.com/v1/tracks/1Vo802A38tPF...</td>\n",
              "      <td>1Vo802A38tPFHmje1h91um</td>\n",
              "      <td>...</td>\n",
              "      <td>Best Of British Comedy</td>\n",
              "      <td>32.0</td>\n",
              "      <td>https://p.scdn.co/mp3-preview/32be593c0eb82868...</td>\n",
              "      <td>0.9430</td>\n",
              "      <td>81.260</td>\n",
              "      <td>https://api.spotify.com/v1/tracks/1Vo802A38tPF...</td>\n",
              "      <td>track_2</td>\n",
              "      <td>spotify:track:1Vo802A38tPFHmje1h91um</td>\n",
              "      <td>0.0906</td>\n",
              "      <td>track</td>\n",
              "    </tr>\n",
              "  </tbody>\n",
              "</table>\n",
              "<p>5 rows × 25 columns</p>\n",
              "</div>\n",
              "      <button class=\"colab-df-convert\" onclick=\"convertToInteractive('df-b055bd4b-9017-4422-9282-25f197b5b2a7')\"\n",
              "              title=\"Convert this dataframe to an interactive table.\"\n",
              "              style=\"display:none;\">\n",
              "        \n",
              "  <svg xmlns=\"http://www.w3.org/2000/svg\" height=\"24px\"viewBox=\"0 0 24 24\"\n",
              "       width=\"24px\">\n",
              "    <path d=\"M0 0h24v24H0V0z\" fill=\"none\"/>\n",
              "    <path d=\"M18.56 5.44l.94 2.06.94-2.06 2.06-.94-2.06-.94-.94-2.06-.94 2.06-2.06.94zm-11 1L8.5 8.5l.94-2.06 2.06-.94-2.06-.94L8.5 2.5l-.94 2.06-2.06.94zm10 10l.94 2.06.94-2.06 2.06-.94-2.06-.94-.94-2.06-.94 2.06-2.06.94z\"/><path d=\"M17.41 7.96l-1.37-1.37c-.4-.4-.92-.59-1.43-.59-.52 0-1.04.2-1.43.59L10.3 9.45l-7.72 7.72c-.78.78-.78 2.05 0 2.83L4 21.41c.39.39.9.59 1.41.59.51 0 1.02-.2 1.41-.59l7.78-7.78 2.81-2.81c.8-.78.8-2.07 0-2.86zM5.41 20L4 18.59l7.72-7.72 1.47 1.35L5.41 20z\"/>\n",
              "  </svg>\n",
              "      </button>\n",
              "      \n",
              "  <style>\n",
              "    .colab-df-container {\n",
              "      display:flex;\n",
              "      flex-wrap:wrap;\n",
              "      gap: 12px;\n",
              "    }\n",
              "\n",
              "    .colab-df-convert {\n",
              "      background-color: #E8F0FE;\n",
              "      border: none;\n",
              "      border-radius: 50%;\n",
              "      cursor: pointer;\n",
              "      display: none;\n",
              "      fill: #1967D2;\n",
              "      height: 32px;\n",
              "      padding: 0 0 0 0;\n",
              "      width: 32px;\n",
              "    }\n",
              "\n",
              "    .colab-df-convert:hover {\n",
              "      background-color: #E2EBFA;\n",
              "      box-shadow: 0px 1px 2px rgba(60, 64, 67, 0.3), 0px 1px 3px 1px rgba(60, 64, 67, 0.15);\n",
              "      fill: #174EA6;\n",
              "    }\n",
              "\n",
              "    [theme=dark] .colab-df-convert {\n",
              "      background-color: #3B4455;\n",
              "      fill: #D2E3FC;\n",
              "    }\n",
              "\n",
              "    [theme=dark] .colab-df-convert:hover {\n",
              "      background-color: #434B5C;\n",
              "      box-shadow: 0px 1px 3px 1px rgba(0, 0, 0, 0.15);\n",
              "      filter: drop-shadow(0px 1px 2px rgba(0, 0, 0, 0.3));\n",
              "      fill: #FFFFFF;\n",
              "    }\n",
              "  </style>\n",
              "\n",
              "      <script>\n",
              "        const buttonEl =\n",
              "          document.querySelector('#df-b055bd4b-9017-4422-9282-25f197b5b2a7 button.colab-df-convert');\n",
              "        buttonEl.style.display =\n",
              "          google.colab.kernel.accessAllowed ? 'block' : 'none';\n",
              "\n",
              "        async function convertToInteractive(key) {\n",
              "          const element = document.querySelector('#df-b055bd4b-9017-4422-9282-25f197b5b2a7');\n",
              "          const dataTable =\n",
              "            await google.colab.kernel.invokeFunction('convertToInteractive',\n",
              "                                                     [key], {});\n",
              "          if (!dataTable) return;\n",
              "\n",
              "          const docLinkHtml = 'Like what you see? Visit the ' +\n",
              "            '<a target=\"_blank\" href=https://colab.research.google.com/notebooks/data_table.ipynb>data table notebook</a>'\n",
              "            + ' to learn more about interactive tables.';\n",
              "          element.innerHTML = '';\n",
              "          dataTable['output_type'] = 'display_data';\n",
              "          await google.colab.output.renderOutput(dataTable, element);\n",
              "          const docLink = document.createElement('div');\n",
              "          docLink.innerHTML = docLinkHtml;\n",
              "          element.appendChild(docLink);\n",
              "        }\n",
              "      </script>\n",
              "    </div>\n",
              "  </div>\n",
              "  "
            ]
          },
          "metadata": {},
          "execution_count": 16
        }
      ]
    },
    {
      "cell_type": "code",
      "source": [
        "data.describe().T"
      ],
      "metadata": {
        "colab": {
          "base_uri": "https://localhost:8080/",
          "height": 363
        },
        "id": "x5NUvwZvi7s_",
        "outputId": "62074998-8953-4f3e-c2ae-0eb176db307c"
      },
      "execution_count": null,
      "outputs": [
        {
          "output_type": "execute_result",
          "data": {
            "text/plain": [
              "                     count        mean        std   min      25%         50%  \\\n",
              "acousticness      101939.0    0.352124   0.334855   0.0   0.0407    0.238000   \n",
              "danceability      101939.0    0.586015   0.177724   0.0   0.4800    0.610000   \n",
              "energy            101939.0    0.586479   0.260170   0.0   0.4110    0.629000   \n",
              "instrumentalness  101939.0    0.148776   0.304024   0.0   0.0000    0.000037   \n",
              "liveness          101939.0    0.197640   0.175391   0.0   0.0956    0.124000   \n",
              "loudness          101939.0   -9.462720   6.198508 -60.0 -11.1490   -7.599000   \n",
              "popularity        101939.0   39.782311  16.790769   0.0  29.0000   41.000000   \n",
              "speechiness       101939.0    0.128841   0.203324   0.0   0.0364    0.050600   \n",
              "tempo             101939.0  118.358527  30.224074   0.0  95.9730  118.067000   \n",
              "valence           101939.0    0.482813   0.261690   0.0   0.2710    0.477000   \n",
              "\n",
              "                       75%      max  \n",
              "acousticness        0.6450    0.996  \n",
              "danceability        0.7140    0.989  \n",
              "energy              0.7980    1.000  \n",
              "instrumentalness    0.0344    1.000  \n",
              "liveness            0.2410    0.999  \n",
              "loudness           -5.5090    2.719  \n",
              "popularity         52.0000   97.000  \n",
              "speechiness         0.1040    0.969  \n",
              "tempo             136.0450  244.035  \n",
              "valence             0.6930    0.993  "
            ],
            "text/html": [
              "\n",
              "  <div id=\"df-d75f17ec-36c5-4d66-9fc0-e7b5a414d560\">\n",
              "    <div class=\"colab-df-container\">\n",
              "      <div>\n",
              "<style scoped>\n",
              "    .dataframe tbody tr th:only-of-type {\n",
              "        vertical-align: middle;\n",
              "    }\n",
              "\n",
              "    .dataframe tbody tr th {\n",
              "        vertical-align: top;\n",
              "    }\n",
              "\n",
              "    .dataframe thead th {\n",
              "        text-align: right;\n",
              "    }\n",
              "</style>\n",
              "<table border=\"1\" class=\"dataframe\">\n",
              "  <thead>\n",
              "    <tr style=\"text-align: right;\">\n",
              "      <th></th>\n",
              "      <th>count</th>\n",
              "      <th>mean</th>\n",
              "      <th>std</th>\n",
              "      <th>min</th>\n",
              "      <th>25%</th>\n",
              "      <th>50%</th>\n",
              "      <th>75%</th>\n",
              "      <th>max</th>\n",
              "    </tr>\n",
              "  </thead>\n",
              "  <tbody>\n",
              "    <tr>\n",
              "      <th>acousticness</th>\n",
              "      <td>101939.0</td>\n",
              "      <td>0.352124</td>\n",
              "      <td>0.334855</td>\n",
              "      <td>0.0</td>\n",
              "      <td>0.0407</td>\n",
              "      <td>0.238000</td>\n",
              "      <td>0.6450</td>\n",
              "      <td>0.996</td>\n",
              "    </tr>\n",
              "    <tr>\n",
              "      <th>danceability</th>\n",
              "      <td>101939.0</td>\n",
              "      <td>0.586015</td>\n",
              "      <td>0.177724</td>\n",
              "      <td>0.0</td>\n",
              "      <td>0.4800</td>\n",
              "      <td>0.610000</td>\n",
              "      <td>0.7140</td>\n",
              "      <td>0.989</td>\n",
              "    </tr>\n",
              "    <tr>\n",
              "      <th>energy</th>\n",
              "      <td>101939.0</td>\n",
              "      <td>0.586479</td>\n",
              "      <td>0.260170</td>\n",
              "      <td>0.0</td>\n",
              "      <td>0.4110</td>\n",
              "      <td>0.629000</td>\n",
              "      <td>0.7980</td>\n",
              "      <td>1.000</td>\n",
              "    </tr>\n",
              "    <tr>\n",
              "      <th>instrumentalness</th>\n",
              "      <td>101939.0</td>\n",
              "      <td>0.148776</td>\n",
              "      <td>0.304024</td>\n",
              "      <td>0.0</td>\n",
              "      <td>0.0000</td>\n",
              "      <td>0.000037</td>\n",
              "      <td>0.0344</td>\n",
              "      <td>1.000</td>\n",
              "    </tr>\n",
              "    <tr>\n",
              "      <th>liveness</th>\n",
              "      <td>101939.0</td>\n",
              "      <td>0.197640</td>\n",
              "      <td>0.175391</td>\n",
              "      <td>0.0</td>\n",
              "      <td>0.0956</td>\n",
              "      <td>0.124000</td>\n",
              "      <td>0.2410</td>\n",
              "      <td>0.999</td>\n",
              "    </tr>\n",
              "    <tr>\n",
              "      <th>loudness</th>\n",
              "      <td>101939.0</td>\n",
              "      <td>-9.462720</td>\n",
              "      <td>6.198508</td>\n",
              "      <td>-60.0</td>\n",
              "      <td>-11.1490</td>\n",
              "      <td>-7.599000</td>\n",
              "      <td>-5.5090</td>\n",
              "      <td>2.719</td>\n",
              "    </tr>\n",
              "    <tr>\n",
              "      <th>popularity</th>\n",
              "      <td>101939.0</td>\n",
              "      <td>39.782311</td>\n",
              "      <td>16.790769</td>\n",
              "      <td>0.0</td>\n",
              "      <td>29.0000</td>\n",
              "      <td>41.000000</td>\n",
              "      <td>52.0000</td>\n",
              "      <td>97.000</td>\n",
              "    </tr>\n",
              "    <tr>\n",
              "      <th>speechiness</th>\n",
              "      <td>101939.0</td>\n",
              "      <td>0.128841</td>\n",
              "      <td>0.203324</td>\n",
              "      <td>0.0</td>\n",
              "      <td>0.0364</td>\n",
              "      <td>0.050600</td>\n",
              "      <td>0.1040</td>\n",
              "      <td>0.969</td>\n",
              "    </tr>\n",
              "    <tr>\n",
              "      <th>tempo</th>\n",
              "      <td>101939.0</td>\n",
              "      <td>118.358527</td>\n",
              "      <td>30.224074</td>\n",
              "      <td>0.0</td>\n",
              "      <td>95.9730</td>\n",
              "      <td>118.067000</td>\n",
              "      <td>136.0450</td>\n",
              "      <td>244.035</td>\n",
              "    </tr>\n",
              "    <tr>\n",
              "      <th>valence</th>\n",
              "      <td>101939.0</td>\n",
              "      <td>0.482813</td>\n",
              "      <td>0.261690</td>\n",
              "      <td>0.0</td>\n",
              "      <td>0.2710</td>\n",
              "      <td>0.477000</td>\n",
              "      <td>0.6930</td>\n",
              "      <td>0.993</td>\n",
              "    </tr>\n",
              "  </tbody>\n",
              "</table>\n",
              "</div>\n",
              "      <button class=\"colab-df-convert\" onclick=\"convertToInteractive('df-d75f17ec-36c5-4d66-9fc0-e7b5a414d560')\"\n",
              "              title=\"Convert this dataframe to an interactive table.\"\n",
              "              style=\"display:none;\">\n",
              "        \n",
              "  <svg xmlns=\"http://www.w3.org/2000/svg\" height=\"24px\"viewBox=\"0 0 24 24\"\n",
              "       width=\"24px\">\n",
              "    <path d=\"M0 0h24v24H0V0z\" fill=\"none\"/>\n",
              "    <path d=\"M18.56 5.44l.94 2.06.94-2.06 2.06-.94-2.06-.94-.94-2.06-.94 2.06-2.06.94zm-11 1L8.5 8.5l.94-2.06 2.06-.94-2.06-.94L8.5 2.5l-.94 2.06-2.06.94zm10 10l.94 2.06.94-2.06 2.06-.94-2.06-.94-.94-2.06-.94 2.06-2.06.94z\"/><path d=\"M17.41 7.96l-1.37-1.37c-.4-.4-.92-.59-1.43-.59-.52 0-1.04.2-1.43.59L10.3 9.45l-7.72 7.72c-.78.78-.78 2.05 0 2.83L4 21.41c.39.39.9.59 1.41.59.51 0 1.02-.2 1.41-.59l7.78-7.78 2.81-2.81c.8-.78.8-2.07 0-2.86zM5.41 20L4 18.59l7.72-7.72 1.47 1.35L5.41 20z\"/>\n",
              "  </svg>\n",
              "      </button>\n",
              "      \n",
              "  <style>\n",
              "    .colab-df-container {\n",
              "      display:flex;\n",
              "      flex-wrap:wrap;\n",
              "      gap: 12px;\n",
              "    }\n",
              "\n",
              "    .colab-df-convert {\n",
              "      background-color: #E8F0FE;\n",
              "      border: none;\n",
              "      border-radius: 50%;\n",
              "      cursor: pointer;\n",
              "      display: none;\n",
              "      fill: #1967D2;\n",
              "      height: 32px;\n",
              "      padding: 0 0 0 0;\n",
              "      width: 32px;\n",
              "    }\n",
              "\n",
              "    .colab-df-convert:hover {\n",
              "      background-color: #E2EBFA;\n",
              "      box-shadow: 0px 1px 2px rgba(60, 64, 67, 0.3), 0px 1px 3px 1px rgba(60, 64, 67, 0.15);\n",
              "      fill: #174EA6;\n",
              "    }\n",
              "\n",
              "    [theme=dark] .colab-df-convert {\n",
              "      background-color: #3B4455;\n",
              "      fill: #D2E3FC;\n",
              "    }\n",
              "\n",
              "    [theme=dark] .colab-df-convert:hover {\n",
              "      background-color: #434B5C;\n",
              "      box-shadow: 0px 1px 3px 1px rgba(0, 0, 0, 0.15);\n",
              "      filter: drop-shadow(0px 1px 2px rgba(0, 0, 0, 0.3));\n",
              "      fill: #FFFFFF;\n",
              "    }\n",
              "  </style>\n",
              "\n",
              "      <script>\n",
              "        const buttonEl =\n",
              "          document.querySelector('#df-d75f17ec-36c5-4d66-9fc0-e7b5a414d560 button.colab-df-convert');\n",
              "        buttonEl.style.display =\n",
              "          google.colab.kernel.accessAllowed ? 'block' : 'none';\n",
              "\n",
              "        async function convertToInteractive(key) {\n",
              "          const element = document.querySelector('#df-d75f17ec-36c5-4d66-9fc0-e7b5a414d560');\n",
              "          const dataTable =\n",
              "            await google.colab.kernel.invokeFunction('convertToInteractive',\n",
              "                                                     [key], {});\n",
              "          if (!dataTable) return;\n",
              "\n",
              "          const docLinkHtml = 'Like what you see? Visit the ' +\n",
              "            '<a target=\"_blank\" href=https://colab.research.google.com/notebooks/data_table.ipynb>data table notebook</a>'\n",
              "            + ' to learn more about interactive tables.';\n",
              "          element.innerHTML = '';\n",
              "          dataTable['output_type'] = 'display_data';\n",
              "          await google.colab.output.renderOutput(dataTable, element);\n",
              "          const docLink = document.createElement('div');\n",
              "          docLink.innerHTML = docLinkHtml;\n",
              "          element.appendChild(docLink);\n",
              "        }\n",
              "      </script>\n",
              "    </div>\n",
              "  </div>\n",
              "  "
            ]
          },
          "metadata": {},
          "execution_count": 57
        }
      ]
    },
    {
      "cell_type": "markdown",
      "source": [
        "# Training"
      ],
      "metadata": {
        "id": "Bfv7G_71eoMe"
      }
    },
    {
      "cell_type": "code",
      "source": [
        "from sklearn.cluster import KMeans\n",
        "from sklearn.preprocessing import StandardScaler"
      ],
      "metadata": {
        "id": "TfhXuvhGooha"
      },
      "execution_count": null,
      "outputs": []
    },
    {
      "cell_type": "code",
      "source": [
        "import warnings\n",
        "warnings.filterwarnings(\"ignore\")"
      ],
      "metadata": {
        "id": "hClPqdyAerrc"
      },
      "execution_count": null,
      "outputs": []
    },
    {
      "cell_type": "code",
      "source": [
        "X = data.select_dtypes(np.number)\n",
        "number_cols = list(X.columns)"
      ],
      "metadata": {
        "id": "MXEe-ABropfk"
      },
      "execution_count": null,
      "outputs": []
    },
    {
      "cell_type": "markdown",
      "source": [
        "Finding optimum K"
      ],
      "metadata": {
        "id": "y_KpM2bas8Kb"
      }
    },
    {
      "cell_type": "code",
      "source": [
        "cost=[]\n",
        "for i in range(1,100):\n",
        "  model=KMeans(n_clusters=i,verbose=False)\n",
        "  model.fit(X)\n",
        "  cost.append(model.inertia_)"
      ],
      "metadata": {
        "id": "0obIYByos-GH"
      },
      "execution_count": null,
      "outputs": []
    },
    {
      "cell_type": "code",
      "source": [
        "import matplotlib.pyplot as plt\n",
        "\n",
        "plt.figure(figsize=(20,10))\n",
        "plt.xticks(range(0,105,5))\n",
        "plt.plot(range(1, 100), cost, color ='g', linewidth ='1')\n",
        "plt.xlabel(\"Value of K\")\n",
        "plt.ylabel(\"Squared Error (Cost)\")\n",
        "plt.show()"
      ],
      "metadata": {
        "colab": {
          "base_uri": "https://localhost:8080/",
          "height": 800
        },
        "id": "CnxRfXNHuO2J",
        "outputId": "fcf8f263-e562-41df-8858-a5f23c5b4c90"
      },
      "execution_count": null,
      "outputs": [
        {
          "output_type": "display_data",
          "data": {
            "text/plain": [
              "<Figure size 2000x1000 with 1 Axes>"
            ],
            "image/png": "[encoded data removed]"
          },
          "metadata": {}
        }
      ]
    },
    {
      "cell_type": "code",
      "source": [
        "cost=[]\n",
        "for i in range(1,30):\n",
        "  model=KMeans(n_clusters=i,verbose=False)\n",
        "  model.fit(X)\n",
        "  cost.append(model.inertia_)"
      ],
      "metadata": {
        "id": "GR0a7xM14wSr"
      },
      "execution_count": null,
      "outputs": []
    },
    {
      "cell_type": "code",
      "source": [
        "import matplotlib.pyplot as plt\n",
        "\n",
        "plt.figure(figsize=(20,10))\n",
        "plt.xticks(range(1,31,1))\n",
        "plt.plot(range(1, 30), cost, color ='g', linewidth ='3')\n",
        "plt.xlabel(\"Value of K\")\n",
        "plt.ylabel(\"Squared Error (Cost)\")\n",
        "plt.show()"
      ],
      "metadata": {
        "colab": {
          "base_uri": "https://localhost:8080/",
          "height": 800
        },
        "id": "0oLZJwwI41qx",
        "outputId": "9d55a8f5-e30a-4e36-f02e-6326d11480e5"
      },
      "execution_count": null,
      "outputs": [
        {
          "output_type": "display_data",
          "data": {
            "text/plain": [
              "<Figure size 2000x1000 with 1 Axes>"
            ],
            "image/png": "[encoded data removed]"
          },
          "metadata": {}
        }
      ]
    },
    {
      "cell_type": "code",
      "source": [
        "from sklearn.metrics import silhouette_score\n",
        "silhouettes = []\n",
        "for k in range(10, 25):\n",
        "    kmeans = KMeans(n_clusters = k).fit(X)\n",
        "    labels = kmeans.labels_\n",
        "    silhouettes.append(silhouette_score(X, labels, metric = 'euclidean'))\n"
      ],
      "metadata": {
        "id": "-bPaD-sz7fZf"
      },
      "execution_count": null,
      "outputs": []
    },
    {
      "cell_type": "code",
      "source": [
        "plt.figure(figsize=(20,10))\n",
        "plt.xticks(range(10,25,1))\n",
        "plt.plot(range(10,25),silhouettes, color ='g', linewidth ='3')\n",
        "plt.show()"
      ],
      "metadata": {
        "colab": {
          "base_uri": "https://localhost:8080/",
          "height": 769
        },
        "id": "icN3LKBv7fVP",
        "outputId": "4dbe1e98-f2f1-44d9-cb45-d0e6b011692c"
      },
      "execution_count": null,
      "outputs": [
        {
          "output_type": "display_data",
          "data": {
            "text/plain": [
              "<Figure size 2000x1000 with 1 Axes>"
            ],
            "image/png": "[encoded data removed]"
          },
          "metadata": {}
        }
      ]
    },
    {
      "cell_type": "markdown",
      "source": [
        "Training with optimum K"
      ],
      "metadata": {
        "id": "T8OZ93ftuiCm"
      }
    },
    {
      "cell_type": "code",
      "source": [
        "model=KMeans(n_clusters=11,verbose=False)"
      ],
      "metadata": {
        "id": "PAAxMeVKo4Ri"
      },
      "execution_count": null,
      "outputs": []
    },
    {
      "cell_type": "code",
      "source": [
        "model.fit(X)\n",
        "labels = model.predict(X)\n",
        "data['cluster_label'] = labels"
      ],
      "metadata": {
        "id": "YvhaNO52ozoy"
      },
      "execution_count": null,
      "outputs": []
    },
    {
      "cell_type": "code",
      "source": [
        "data.head()"
      ],
      "metadata": {
        "colab": {
          "base_uri": "https://localhost:8080/",
          "height": 438
        },
        "id": "V_57tXcLpliN",
        "outputId": "06884250-ce03-4bbb-a3d3-f5be98acf4ef"
      },
      "execution_count": 25,
      "outputs": [
        {
          "output_type": "execute_result",
          "data": {
            "text/plain": [
              "   acousticness                album_id  \\\n",
              "0         0.294  0D3QufeCudpQANOR7luqdr   \n",
              "1         0.863  1bcqsH5UyTBzmh9YizdsBE   \n",
              "2         0.750  4tKijjmxGClg4JOLAyo2qE   \n",
              "3         0.763  6FeJF5r8roonnKraJxr4oB   \n",
              "4         0.770  4tKijjmxGClg4JOLAyo2qE   \n",
              "\n",
              "                                        analysis_url  \\\n",
              "0  https://api.spotify.com/v1/audio-analysis/5qlj...   \n",
              "1  https://api.spotify.com/v1/audio-analysis/3VAX...   \n",
              "2  https://api.spotify.com/v1/audio-analysis/1L3Y...   \n",
              "3  https://api.spotify.com/v1/audio-analysis/6aCe...   \n",
              "4  https://api.spotify.com/v1/audio-analysis/1Vo8...   \n",
              "\n",
              "                   artists_id  \\\n",
              "0  ['3mxJuHRn2ZWD5OofvJtDZY']   \n",
              "1  ['4xWMewm6CYMstu0sPgd9jJ']   \n",
              "2  ['3hYaK5FF3YAglCj5HZgBnP']   \n",
              "3  ['2KQsUB9DRBcJk17JWX1eXD']   \n",
              "4  ['3hYaK5FF3YAglCj5HZgBnP']   \n",
              "\n",
              "                                   available_markets country  danceability  \\\n",
              "0  ['AD', 'AE', 'AR', 'AT', 'AU', 'BE', 'BG', 'BH...      BE         0.698   \n",
              "1  ['AD', 'AE', 'AR', 'AT', 'AU', 'BE', 'BG', 'BH...      BE         0.719   \n",
              "2                                             ['GB']      BE         0.466   \n",
              "3  ['AD', 'AE', 'AR', 'AT', 'AU', 'BE', 'BG', 'BH...      BE         0.719   \n",
              "4                                             ['GB']      BE         0.460   \n",
              "\n",
              "   energy                                               href  \\\n",
              "0   0.606  https://api.spotify.com/v1/tracks/5qljLQuKnNJf...   \n",
              "1   0.308  https://api.spotify.com/v1/tracks/3VAX2MJdmdqA...   \n",
              "2   0.931  https://api.spotify.com/v1/tracks/1L3YAhsEMrGV...   \n",
              "3   0.126  https://api.spotify.com/v1/tracks/6aCe9zzoZmCo...   \n",
              "4   0.942  https://api.spotify.com/v1/tracks/1Vo802A38tPF...   \n",
              "\n",
              "                       id  ...  popularity  \\\n",
              "0  5qljLQuKnNJf4F4vfxQB0V  ...        28.0   \n",
              "1  3VAX2MJdmdqARLSU5hPMpm  ...        31.0   \n",
              "2  1L3YAhsEMrGVvCgDXj2TYn  ...        31.0   \n",
              "3  6aCe9zzoZmCojX7bbgKKtf  ...        14.0   \n",
              "4  1Vo802A38tPFHmje1h91um  ...        32.0   \n",
              "\n",
              "                                         preview_url  speechiness    tempo  \\\n",
              "0  https://p.scdn.co/mp3-preview/1b05a902da3a251d...       0.0262  115.018   \n",
              "1  https://p.scdn.co/mp3-preview/d8140736a6131cb5...       0.9220  115.075   \n",
              "2  https://p.scdn.co/mp3-preview/c8af28fb15185b18...       0.9440   79.565   \n",
              "3  https://p.scdn.co/mp3-preview/7629b8e9f31f6e9b...       0.9380  112.822   \n",
              "4  https://p.scdn.co/mp3-preview/32be593c0eb82868...       0.9430   81.260   \n",
              "\n",
              "                                          track_href track_name_prev  \\\n",
              "0  https://api.spotify.com/v1/tracks/5qljLQuKnNJf...        track_14   \n",
              "1  https://api.spotify.com/v1/tracks/3VAX2MJdmdqA...         track_3   \n",
              "2  https://api.spotify.com/v1/tracks/1L3YAhsEMrGV...         track_4   \n",
              "3  https://api.spotify.com/v1/tracks/6aCe9zzoZmCo...         track_9   \n",
              "4  https://api.spotify.com/v1/tracks/1Vo802A38tPF...         track_2   \n",
              "\n",
              "                                    uri valence   type  cluster_label  \n",
              "0  spotify:track:5qljLQuKnNJf4F4vfxQB0V  0.6220  track              4  \n",
              "1  spotify:track:3VAX2MJdmdqARLSU5hPMpm  0.5890  track              4  \n",
              "2  spotify:track:1L3YAhsEMrGVvCgDXj2TYn  0.0850  track              7  \n",
              "3  spotify:track:6aCe9zzoZmCojX7bbgKKtf  0.5330  track              8  \n",
              "4  spotify:track:1Vo802A38tPFHmje1h91um  0.0906  track              7  \n",
              "\n",
              "[5 rows x 26 columns]"
            ],
            "text/html": [
              "\n",
              "  <div id=\"df-a4ab4d45-7a10-4737-b43e-3ae9042bb60b\">\n",
              "    <div class=\"colab-df-container\">\n",
              "      <div>\n",
              "<style scoped>\n",
              "    .dataframe tbody tr th:only-of-type {\n",
              "        vertical-align: middle;\n",
              "    }\n",
              "\n",
              "    .dataframe tbody tr th {\n",
              "        vertical-align: top;\n",
              "    }\n",
              "\n",
              "    .dataframe thead th {\n",
              "        text-align: right;\n",
              "    }\n",
              "</style>\n",
              "<table border=\"1\" class=\"dataframe\">\n",
              "  <thead>\n",
              "    <tr style=\"text-align: right;\">\n",
              "      <th></th>\n",
              "      <th>acousticness</th>\n",
              "      <th>album_id</th>\n",
              "      <th>analysis_url</th>\n",
              "      <th>artists_id</th>\n",
              "      <th>available_markets</th>\n",
              "      <th>country</th>\n",
              "      <th>danceability</th>\n",
              "      <th>energy</th>\n",
              "      <th>href</th>\n",
              "      <th>id</th>\n",
              "      <th>...</th>\n",
              "      <th>popularity</th>\n",
              "      <th>preview_url</th>\n",
              "      <th>speechiness</th>\n",
              "      <th>tempo</th>\n",
              "      <th>track_href</th>\n",
              "      <th>track_name_prev</th>\n",
              "      <th>uri</th>\n",
              "      <th>valence</th>\n",
              "      <th>type</th>\n",
              "      <th>cluster_label</th>\n",
              "    </tr>\n",
              "  </thead>\n",
              "  <tbody>\n",
              "    <tr>\n",
              "      <th>0</th>\n",
              "      <td>0.294</td>\n",
              "      <td>0D3QufeCudpQANOR7luqdr</td>\n",
              "      <td>https://api.spotify.com/v1/audio-analysis/5qlj...</td>\n",
              "      <td>['3mxJuHRn2ZWD5OofvJtDZY']</td>\n",
              "      <td>['AD', 'AE', 'AR', 'AT', 'AU', 'BE', 'BG', 'BH...</td>\n",
              "      <td>BE</td>\n",
              "      <td>0.698</td>\n",
              "      <td>0.606</td>\n",
              "      <td>https://api.spotify.com/v1/tracks/5qljLQuKnNJf...</td>\n",
              "      <td>5qljLQuKnNJf4F4vfxQB0V</td>\n",
              "      <td>...</td>\n",
              "      <td>28.0</td>\n",
              "      <td>https://p.scdn.co/mp3-preview/1b05a902da3a251d...</td>\n",
              "      <td>0.0262</td>\n",
              "      <td>115.018</td>\n",
              "      <td>https://api.spotify.com/v1/tracks/5qljLQuKnNJf...</td>\n",
              "      <td>track_14</td>\n",
              "      <td>spotify:track:5qljLQuKnNJf4F4vfxQB0V</td>\n",
              "      <td>0.6220</td>\n",
              "      <td>track</td>\n",
              "      <td>4</td>\n",
              "    </tr>\n",
              "    <tr>\n",
              "      <th>1</th>\n",
              "      <td>0.863</td>\n",
              "      <td>1bcqsH5UyTBzmh9YizdsBE</td>\n",
              "      <td>https://api.spotify.com/v1/audio-analysis/3VAX...</td>\n",
              "      <td>['4xWMewm6CYMstu0sPgd9jJ']</td>\n",
              "      <td>['AD', 'AE', 'AR', 'AT', 'AU', 'BE', 'BG', 'BH...</td>\n",
              "      <td>BE</td>\n",
              "      <td>0.719</td>\n",
              "      <td>0.308</td>\n",
              "      <td>https://api.spotify.com/v1/tracks/3VAX2MJdmdqA...</td>\n",
              "      <td>3VAX2MJdmdqARLSU5hPMpm</td>\n",
              "      <td>...</td>\n",
              "      <td>31.0</td>\n",
              "      <td>https://p.scdn.co/mp3-preview/d8140736a6131cb5...</td>\n",
              "      <td>0.9220</td>\n",
              "      <td>115.075</td>\n",
              "      <td>https://api.spotify.com/v1/tracks/3VAX2MJdmdqA...</td>\n",
              "      <td>track_3</td>\n",
              "      <td>spotify:track:3VAX2MJdmdqARLSU5hPMpm</td>\n",
              "      <td>0.5890</td>\n",
              "      <td>track</td>\n",
              "      <td>4</td>\n",
              "    </tr>\n",
              "    <tr>\n",
              "      <th>2</th>\n",
              "      <td>0.750</td>\n",
              "      <td>4tKijjmxGClg4JOLAyo2qE</td>\n",
              "      <td>https://api.spotify.com/v1/audio-analysis/1L3Y...</td>\n",
              "      <td>['3hYaK5FF3YAglCj5HZgBnP']</td>\n",
              "      <td>['GB']</td>\n",
              "      <td>BE</td>\n",
              "      <td>0.466</td>\n",
              "      <td>0.931</td>\n",
              "      <td>https://api.spotify.com/v1/tracks/1L3YAhsEMrGV...</td>\n",
              "      <td>1L3YAhsEMrGVvCgDXj2TYn</td>\n",
              "      <td>...</td>\n",
              "      <td>31.0</td>\n",
              "      <td>https://p.scdn.co/mp3-preview/c8af28fb15185b18...</td>\n",
              "      <td>0.9440</td>\n",
              "      <td>79.565</td>\n",
              "      <td>https://api.spotify.com/v1/tracks/1L3YAhsEMrGV...</td>\n",
              "      <td>track_4</td>\n",
              "      <td>spotify:track:1L3YAhsEMrGVvCgDXj2TYn</td>\n",
              "      <td>0.0850</td>\n",
              "      <td>track</td>\n",
              "      <td>7</td>\n",
              "    </tr>\n",
              "    <tr>\n",
              "      <th>3</th>\n",
              "      <td>0.763</td>\n",
              "      <td>6FeJF5r8roonnKraJxr4oB</td>\n",
              "      <td>https://api.spotify.com/v1/audio-analysis/6aCe...</td>\n",
              "      <td>['2KQsUB9DRBcJk17JWX1eXD']</td>\n",
              "      <td>['AD', 'AE', 'AR', 'AT', 'AU', 'BE', 'BG', 'BH...</td>\n",
              "      <td>BE</td>\n",
              "      <td>0.719</td>\n",
              "      <td>0.126</td>\n",
              "      <td>https://api.spotify.com/v1/tracks/6aCe9zzoZmCo...</td>\n",
              "      <td>6aCe9zzoZmCojX7bbgKKtf</td>\n",
              "      <td>...</td>\n",
              "      <td>14.0</td>\n",
              "      <td>https://p.scdn.co/mp3-preview/7629b8e9f31f6e9b...</td>\n",
              "      <td>0.9380</td>\n",
              "      <td>112.822</td>\n",
              "      <td>https://api.spotify.com/v1/tracks/6aCe9zzoZmCo...</td>\n",
              "      <td>track_9</td>\n",
              "      <td>spotify:track:6aCe9zzoZmCojX7bbgKKtf</td>\n",
              "      <td>0.5330</td>\n",
              "      <td>track</td>\n",
              "      <td>8</td>\n",
              "    </tr>\n",
              "    <tr>\n",
              "      <th>4</th>\n",
              "      <td>0.770</td>\n",
              "      <td>4tKijjmxGClg4JOLAyo2qE</td>\n",
              "      <td>https://api.spotify.com/v1/audio-analysis/1Vo8...</td>\n",
              "      <td>['3hYaK5FF3YAglCj5HZgBnP']</td>\n",
              "      <td>['GB']</td>\n",
              "      <td>BE</td>\n",
              "      <td>0.460</td>\n",
              "      <td>0.942</td>\n",
              "      <td>https://api.spotify.com/v1/tracks/1Vo802A38tPF...</td>\n",
              "      <td>1Vo802A38tPFHmje1h91um</td>\n",
              "      <td>...</td>\n",
              "      <td>32.0</td>\n",
              "      <td>https://p.scdn.co/mp3-preview/32be593c0eb82868...</td>\n",
              "      <td>0.9430</td>\n",
              "      <td>81.260</td>\n",
              "      <td>https://api.spotify.com/v1/tracks/1Vo802A38tPF...</td>\n",
              "      <td>track_2</td>\n",
              "      <td>spotify:track:1Vo802A38tPFHmje1h91um</td>\n",
              "      <td>0.0906</td>\n",
              "      <td>track</td>\n",
              "      <td>7</td>\n",
              "    </tr>\n",
              "  </tbody>\n",
              "</table>\n",
              "<p>5 rows × 26 columns</p>\n",
              "</div>\n",
              "      <button class=\"colab-df-convert\" onclick=\"convertToInteractive('df-a4ab4d45-7a10-4737-b43e-3ae9042bb60b')\"\n",
              "              title=\"Convert this dataframe to an interactive table.\"\n",
              "              style=\"display:none;\">\n",
              "        \n",
              "  <svg xmlns=\"http://www.w3.org/2000/svg\" height=\"24px\"viewBox=\"0 0 24 24\"\n",
              "       width=\"24px\">\n",
              "    <path d=\"M0 0h24v24H0V0z\" fill=\"none\"/>\n",
              "    <path d=\"M18.56 5.44l.94 2.06.94-2.06 2.06-.94-2.06-.94-.94-2.06-.94 2.06-2.06.94zm-11 1L8.5 8.5l.94-2.06 2.06-.94-2.06-.94L8.5 2.5l-.94 2.06-2.06.94zm10 10l.94 2.06.94-2.06 2.06-.94-2.06-.94-.94-2.06-.94 2.06-2.06.94z\"/><path d=\"M17.41 7.96l-1.37-1.37c-.4-.4-.92-.59-1.43-.59-.52 0-1.04.2-1.43.59L10.3 9.45l-7.72 7.72c-.78.78-.78 2.05 0 2.83L4 21.41c.39.39.9.59 1.41.59.51 0 1.02-.2 1.41-.59l7.78-7.78 2.81-2.81c.8-.78.8-2.07 0-2.86zM5.41 20L4 18.59l7.72-7.72 1.47 1.35L5.41 20z\"/>\n",
              "  </svg>\n",
              "      </button>\n",
              "      \n",
              "  <style>\n",
              "    .colab-df-container {\n",
              "      display:flex;\n",
              "      flex-wrap:wrap;\n",
              "      gap: 12px;\n",
              "    }\n",
              "\n",
              "    .colab-df-convert {\n",
              "      background-color: #E8F0FE;\n",
              "      border: none;\n",
              "      border-radius: 50%;\n",
              "      cursor: pointer;\n",
              "      display: none;\n",
              "      fill: #1967D2;\n",
              "      height: 32px;\n",
              "      padding: 0 0 0 0;\n",
              "      width: 32px;\n",
              "    }\n",
              "\n",
              "    .colab-df-convert:hover {\n",
              "      background-color: #E2EBFA;\n",
              "      box-shadow: 0px 1px 2px rgba(60, 64, 67, 0.3), 0px 1px 3px 1px rgba(60, 64, 67, 0.15);\n",
              "      fill: #174EA6;\n",
              "    }\n",
              "\n",
              "    [theme=dark] .colab-df-convert {\n",
              "      background-color: #3B4455;\n",
              "      fill: #D2E3FC;\n",
              "    }\n",
              "\n",
              "    [theme=dark] .colab-df-convert:hover {\n",
              "      background-color: #434B5C;\n",
              "      box-shadow: 0px 1px 3px 1px rgba(0, 0, 0, 0.15);\n",
              "      filter: drop-shadow(0px 1px 2px rgba(0, 0, 0, 0.3));\n",
              "      fill: #FFFFFF;\n",
              "    }\n",
              "  </style>\n",
              "\n",
              "      <script>\n",
              "        const buttonEl =\n",
              "          document.querySelector('#df-a4ab4d45-7a10-4737-b43e-3ae9042bb60b button.colab-df-convert');\n",
              "        buttonEl.style.display =\n",
              "          google.colab.kernel.accessAllowed ? 'block' : 'none';\n",
              "\n",
              "        async function convertToInteractive(key) {\n",
              "          const element = document.querySelector('#df-a4ab4d45-7a10-4737-b43e-3ae9042bb60b');\n",
              "          const dataTable =\n",
              "            await google.colab.kernel.invokeFunction('convertToInteractive',\n",
              "                                                     [key], {});\n",
              "          if (!dataTable) return;\n",
              "\n",
              "          const docLinkHtml = 'Like what you see? Visit the ' +\n",
              "            '<a target=\"_blank\" href=https://colab.research.google.com/notebooks/data_table.ipynb>data table notebook</a>'\n",
              "            + ' to learn more about interactive tables.';\n",
              "          element.innerHTML = '';\n",
              "          dataTable['output_type'] = 'display_data';\n",
              "          await google.colab.output.renderOutput(dataTable, element);\n",
              "          const docLink = document.createElement('div');\n",
              "          docLink.innerHTML = docLinkHtml;\n",
              "          element.appendChild(docLink);\n",
              "        }\n",
              "      </script>\n",
              "    </div>\n",
              "  </div>\n",
              "  "
            ]
          },
          "metadata": {},
          "execution_count": 25
        }
      ]
    },
    {
      "cell_type": "markdown",
      "source": [
        "# Save Data to Firebase"
      ],
      "metadata": {
        "id": "VSN-AozsYXnc"
      }
    },
    {
      "cell_type": "code",
      "source": [
        "import firebase_admin\n",
        "from firebase_admin import credentials\n",
        "from firebase_admin import db"
      ],
      "metadata": {
        "id": "vyCN1S09YbZC"
      },
      "execution_count": null,
      "outputs": []
    },
    {
      "cell_type": "code",
      "source": [
        "import firebase_admin\n",
        "from firebase_admin import credentials\n",
        "\n",
        "cred = credentials.Certificate(\"\")\n",
        "firebase_admin.initialize_app(cred,{'databaseURL':''})"
      ],
      "metadata": {
        "id": "T98eyau4YoD0",
        "colab": {
          "base_uri": "https://localhost:8080/"
        },
        "outputId": "09044b15-5c34-48da-818e-634d215e3c96"
      },
      "execution_count": null,
      "outputs": [
        {
          "output_type": "execute_result",
          "data": {
            "text/plain": [
              "<firebase_admin.App at 0x7f1fbcba6080>"
            ]
          },
          "metadata": {},
          "execution_count": 14
        }
      ]
    },
    {
      "cell_type": "code",
      "source": [
        "ref=db.reference('dataset/')"
      ],
      "metadata": {
        "id": "HsRRBI07aSxQ"
      },
      "execution_count": null,
      "outputs": []
    },
    {
      "cell_type": "code",
      "source": [
        "for i in range(len(data)):\n",
        "  dataset=ref.child(str(i+1))\n",
        "  temp=dict(data.iloc[i])\n",
        "  dataset.set({\n",
        "      \"id\":temp['id'],\n",
        "      \"name\":temp['name'],\n",
        "      \"cluster_label\":int(temp['cluster_label']),\n",
        "      \"playlist\":temp['playlist'],\n",
        "      \"acousticness\":temp['acousticness'],\n",
        "      \"album_id\":temp['album_id'],\n",
        "      \"artists_id\":temp['artists_id'],\n",
        "      \"available_markets\":temp['available_markets'],\n",
        "      \"country\":temp['country'],\n",
        "      \"uri\":temp['uri'],\n",
        "      \"lyrics\":temp['lyrics']\n",
        "      })"
      ],
      "metadata": {
        "id": "Ryk7iNLbmaoo"
      },
      "execution_count": null,
      "outputs": []
    },
    {
      "cell_type": "markdown",
      "source": [
        "## Save data as csv"
      ],
      "metadata": {
        "id": "tG07DiwBHeBL"
      }
    },
    {
      "cell_type": "code",
      "source": [
        "data.to_csv(\"labeled_data.csv\", encoding=\"UTF-8\")"
      ],
      "metadata": {
        "id": "PkgN1LDOIYKz"
      },
      "execution_count": null,
      "outputs": []
    },
    {
      "cell_type": "markdown",
      "source": [
        "# Recommendation"
      ],
      "metadata": {
        "id": "0xBTayxVelAX"
      }
    },
    {
      "cell_type": "code",
      "execution_count": null,
      "metadata": {
        "colab": {
          "base_uri": "https://localhost:8080/"
        },
        "id": "NZz2AN4ReEvb",
        "outputId": "ba3d391f-f4cf-4988-e78f-bdf6310c8936"
      },
      "outputs": [
        {
          "output_type": "stream",
          "name": "stdout",
          "text": [
            "Looking in indexes: https://pypi.org/simple, https://us-python.pkg.dev/colab-wheels/public/simple/\n",
            "Collecting spotipy\n",
            "  Downloading spotipy-2.23.0-py3-none-any.whl (29 kB)\n",
            "Collecting redis>=3.5.3 (from spotipy)\n",
            "  Downloading redis-4.5.5-py3-none-any.whl (240 kB)\n",
            "\u001b[2K     \u001b[90m━━━━━━━━━━━━━━━━━━━━━━━━━━━━━━━━━━━━━━\u001b[0m \u001b[32m240.3/240.3 kB\u001b[0m \u001b[31m15.0 MB/s\u001b[0m eta \u001b[36m0:00:00\u001b[0m\n",
            "\u001b[?25hRequirement already satisfied: requests>=2.25.0 in /usr/local/lib/python3.10/dist-packages (from spotipy) (2.27.1)\n",
            "Requirement already satisfied: six>=1.15.0 in /usr/local/lib/python3.10/dist-packages (from spotipy) (1.16.0)\n",
            "Requirement already satisfied: urllib3>=1.26.0 in /usr/local/lib/python3.10/dist-packages (from spotipy) (1.26.15)\n",
            "Collecting async-timeout>=4.0.2 (from redis>=3.5.3->spotipy)\n",
            "  Downloading async_timeout-4.0.2-py3-none-any.whl (5.8 kB)\n",
            "Requirement already satisfied: certifi>=2017.4.17 in /usr/local/lib/python3.10/dist-packages (from requests>=2.25.0->spotipy) (2022.12.7)\n",
            "Requirement already satisfied: charset-normalizer~=2.0.0 in /usr/local/lib/python3.10/dist-packages (from requests>=2.25.0->spotipy) (2.0.12)\n",
            "Requirement already satisfied: idna<4,>=2.5 in /usr/local/lib/python3.10/dist-packages (from requests>=2.25.0->spotipy) (3.4)\n",
            "Installing collected packages: async-timeout, redis, spotipy\n",
            "Successfully installed async-timeout-4.0.2 redis-4.5.5 spotipy-2.23.0\n"
          ]
        }
      ],
      "source": [
        "!pip install spotipy"
      ]
    },
    {
      "cell_type": "markdown",
      "source": [
        "Get image from url"
      ],
      "metadata": {
        "id": "i1q3wJhJzCeA"
      }
    },
    {
      "cell_type": "code",
      "source": [
        "import requests\n",
        "import shutil"
      ],
      "metadata": {
        "id": "EWFDDuEOyJFC"
      },
      "execution_count": null,
      "outputs": []
    },
    {
      "cell_type": "code",
      "source": [
        "uri_list=list(data[data['name']==\"Zombie\"]['uri'])"
      ],
      "metadata": {
        "id": "D1-Z7UIes5Bg"
      },
      "execution_count": null,
      "outputs": []
    },
    {
      "cell_type": "code",
      "source": [
        "uri_list"
      ],
      "metadata": {
        "colab": {
          "base_uri": "https://localhost:8080/"
        },
        "id": "xj4V2EY9u6fm",
        "outputId": "ee618ecb-ce35-4330-a9e2-451c9f6a065e"
      },
      "execution_count": null,
      "outputs": [
        {
          "output_type": "execute_result",
          "data": {
            "text/plain": [
              "['spotify:track:4wlaVW8HUb12uqQC2nqQrv',\n",
              " 'spotify:track:1NNbekhtCw2UhHgcvuxe4t',\n",
              " 'spotify:track:5F0oU6oawDaAdNAaRX0I8z',\n",
              " 'spotify:track:1QHfuEyKqH35Qf7iJIl0Wd',\n",
              " 'spotify:track:0qJCAToUWH6dZfGZmoP7bl',\n",
              " 'spotify:track:1TwbzKMxFBExaDEUWqQ832',\n",
              " 'spotify:track:1eadPrzB2P0ikQcqhKSAtv',\n",
              " 'spotify:track:11GDQVqIEKAB4QKOcIVOvG',\n",
              " 'spotify:track:1vNoA9F5ASnlBISFekDmg3',\n",
              " 'spotify:track:3yo43Xwn5bPdVqd1NDmlO5']"
            ]
          },
          "metadata": {},
          "execution_count": 174
        }
      ]
    },
    {
      "cell_type": "code",
      "source": [
        "song_link=\"https://open.spotify.com/track/\"+uri_list[-1].split(\":\")[-1]\n",
        "x = requests.get(song_link)\n",
        "image_link=str(x.content).split('img')[1]\n",
        "image_link=image_link.split('src=\"')[1]\n",
        "image_link=image_link.split('\"')[0]\n",
        "image_link,song_link"
      ],
      "metadata": {
        "colab": {
          "base_uri": "https://localhost:8080/"
        },
        "id": "596Ni_BUumBD",
        "outputId": "b82d87e2-7eb1-47bf-aec6-76b5364b0159"
      },
      "execution_count": null,
      "outputs": [
        {
          "output_type": "execute_result",
          "data": {
            "text/plain": [
              "('https://i.scdn.co/image/ab67616d00001e02c6345caefe2df18460c84876',\n",
              " 'https://open.spotify.com/track/3yo43Xwn5bPdVqd1NDmlO5')"
            ]
          },
          "metadata": {},
          "execution_count": 175
        }
      ]
    },
    {
      "cell_type": "code",
      "source": [
        "path = 'music_image.png'\n",
        "\n",
        "r = requests.get(image_link, stream=True)\n",
        "if r.status_code == 200:\n",
        "    with open(path, 'wb') as f:\n",
        "        r.raw.decode_content = True\n",
        "        shutil.copyfileobj(r.raw, f)\n",
        "        print('Image Downloaded Successfully')"
      ],
      "metadata": {
        "colab": {
          "base_uri": "https://localhost:8080/"
        },
        "id": "8HYXO_0rx1lc",
        "outputId": "b1fca06f-153a-4faa-d54c-5488cb99806d"
      },
      "execution_count": null,
      "outputs": [
        {
          "output_type": "stream",
          "name": "stdout",
          "text": [
            "Image Downloaded Successfully\n"
          ]
        }
      ]
    }
  ]
}